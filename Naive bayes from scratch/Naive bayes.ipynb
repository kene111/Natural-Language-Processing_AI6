{
 "cells": [
  {
   "cell_type": "code",
   "execution_count": 1,
   "metadata": {},
   "outputs": [],
   "source": [
    "import pandas as pd\n",
    "import numpy as np"
   ]
  },
  {
   "cell_type": "code",
   "execution_count": 2,
   "metadata": {},
   "outputs": [
    {
     "data": {
      "text/html": [
       "<div>\n",
       "<style scoped>\n",
       "    .dataframe tbody tr th:only-of-type {\n",
       "        vertical-align: middle;\n",
       "    }\n",
       "\n",
       "    .dataframe tbody tr th {\n",
       "        vertical-align: top;\n",
       "    }\n",
       "\n",
       "    .dataframe thead th {\n",
       "        text-align: right;\n",
       "    }\n",
       "</style>\n",
       "<table border=\"1\" class=\"dataframe\">\n",
       "  <thead>\n",
       "    <tr style=\"text-align: right;\">\n",
       "      <th></th>\n",
       "      <th>No_of_pairs_of_shoes</th>\n",
       "      <th>No_of_cloths</th>\n",
       "      <th>total_gadgets_owned</th>\n",
       "      <th>Gender</th>\n",
       "    </tr>\n",
       "  </thead>\n",
       "  <tbody>\n",
       "    <tr>\n",
       "      <th>0</th>\n",
       "      <td>5</td>\n",
       "      <td>30</td>\n",
       "      <td>5</td>\n",
       "      <td>male</td>\n",
       "    </tr>\n",
       "    <tr>\n",
       "      <th>1</th>\n",
       "      <td>4</td>\n",
       "      <td>25</td>\n",
       "      <td>6</td>\n",
       "      <td>male</td>\n",
       "    </tr>\n",
       "    <tr>\n",
       "      <th>2</th>\n",
       "      <td>5</td>\n",
       "      <td>70</td>\n",
       "      <td>2</td>\n",
       "      <td>male</td>\n",
       "    </tr>\n",
       "    <tr>\n",
       "      <th>3</th>\n",
       "      <td>6</td>\n",
       "      <td>40</td>\n",
       "      <td>10</td>\n",
       "      <td>male</td>\n",
       "    </tr>\n",
       "    <tr>\n",
       "      <th>4</th>\n",
       "      <td>8</td>\n",
       "      <td>100</td>\n",
       "      <td>6</td>\n",
       "      <td>female</td>\n",
       "    </tr>\n",
       "    <tr>\n",
       "      <th>5</th>\n",
       "      <td>7</td>\n",
       "      <td>90</td>\n",
       "      <td>8</td>\n",
       "      <td>female</td>\n",
       "    </tr>\n",
       "    <tr>\n",
       "      <th>6</th>\n",
       "      <td>9</td>\n",
       "      <td>80</td>\n",
       "      <td>2</td>\n",
       "      <td>female</td>\n",
       "    </tr>\n",
       "    <tr>\n",
       "      <th>7</th>\n",
       "      <td>8</td>\n",
       "      <td>60</td>\n",
       "      <td>9</td>\n",
       "      <td>female</td>\n",
       "    </tr>\n",
       "  </tbody>\n",
       "</table>\n",
       "</div>"
      ],
      "text/plain": [
       "   No_of_pairs_of_shoes  No_of_cloths  total_gadgets_owned  Gender\n",
       "0                     5            30                    5    male\n",
       "1                     4            25                    6    male\n",
       "2                     5            70                    2    male\n",
       "3                     6            40                   10    male\n",
       "4                     8           100                    6  female\n",
       "5                     7            90                    8  female\n",
       "6                     9            80                    2  female\n",
       "7                     8            60                    9  female"
      ]
     },
     "execution_count": 2,
     "metadata": {},
     "output_type": "execute_result"
    }
   ],
   "source": [
    "# Creating an empty dataframe\n",
    "data = pd.DataFrame()\n",
    "\n",
    "# creating the features \n",
    "data['No_of_pairs_of_shoes'] = [5,4,5,6,8,7,9,8] \n",
    "data['No_of_cloths'] =[30, 25,70,40 ,100,90,80,60]\n",
    "data['total_gadgets_owned'] = [5,6,2,10,6,8,2,9]\n",
    "\n",
    "# creating the target variable\n",
    "data['Gender'] = ['male', 'male', 'male', 'male','female','female','female','female']\n",
    "\n",
    "# displaying the variables\n",
    "data"
   ]
  },
  {
   "cell_type": "code",
   "execution_count": 4,
   "metadata": {
    "scrolled": true
   },
   "outputs": [
    {
     "data": {
      "text/html": [
       "<div>\n",
       "<style scoped>\n",
       "    .dataframe tbody tr th:only-of-type {\n",
       "        vertical-align: middle;\n",
       "    }\n",
       "\n",
       "    .dataframe tbody tr th {\n",
       "        vertical-align: top;\n",
       "    }\n",
       "\n",
       "    .dataframe thead th {\n",
       "        text-align: right;\n",
       "    }\n",
       "</style>\n",
       "<table border=\"1\" class=\"dataframe\">\n",
       "  <thead>\n",
       "    <tr style=\"text-align: right;\">\n",
       "      <th></th>\n",
       "      <th>No_of_pairs_of_shoes</th>\n",
       "      <th>No_of_cloths</th>\n",
       "      <th>total_gadgets_owned</th>\n",
       "    </tr>\n",
       "  </thead>\n",
       "  <tbody>\n",
       "    <tr>\n",
       "      <th>0</th>\n",
       "      <td>6</td>\n",
       "      <td>50</td>\n",
       "      <td>3</td>\n",
       "    </tr>\n",
       "  </tbody>\n",
       "</table>\n",
       "</div>"
      ],
      "text/plain": [
       "   No_of_pairs_of_shoes  No_of_cloths  total_gadgets_owned\n",
       "0                     6            50                    3"
      ]
     },
     "execution_count": 4,
     "metadata": {},
     "output_type": "execute_result"
    }
   ],
   "source": [
    "# create an empty dataframe\n",
    "person = pd.DataFrame()\n",
    "#create some feature values for this single row\n",
    "\n",
    "person['No_of_pairs_of_shoes'] = [6]\n",
    "person['No_of_cloths'] = [50]\n",
    "person ['total_gadgets_owned'] = [3]\n",
    "\n",
    "person"
   ]
  },
  {
   "cell_type": "code",
   "execution_count": 7,
   "metadata": {},
   "outputs": [
    {
     "data": {
      "text/plain": [
       "4"
      ]
     },
     "execution_count": 7,
     "metadata": {},
     "output_type": "execute_result"
    }
   ],
   "source": [
    "# number of males\n",
    "no_male = data['Gender'][data['Gender'] == 'male'].count()\n",
    "no_male"
   ]
  },
  {
   "cell_type": "code",
   "execution_count": 8,
   "metadata": {},
   "outputs": [
    {
     "data": {
      "text/plain": [
       "4"
      ]
     },
     "execution_count": 8,
     "metadata": {},
     "output_type": "execute_result"
    }
   ],
   "source": [
    "# number of females\n",
    "\n",
    "no_female = data['Gender'][data['Gender'] == 'female'].count()\n",
    "no_female"
   ]
  },
  {
   "cell_type": "code",
   "execution_count": 9,
   "metadata": {},
   "outputs": [
    {
     "data": {
      "text/plain": [
       "8"
      ]
     },
     "execution_count": 9,
     "metadata": {},
     "output_type": "execute_result"
    }
   ],
   "source": [
    "total_people = data['Gender'].count()\n",
    "total_people"
   ]
  },
  {
   "cell_type": "code",
   "execution_count": 12,
   "metadata": {},
   "outputs": [],
   "source": [
    "# number of males divided by the total \n",
    "\n",
    "prob_male = no_male/total_people\n",
    "\n",
    "# number of females divided by the total\n",
    "prob_female = no_female/total_people\n"
   ]
  },
  {
   "cell_type": "code",
   "execution_count": 13,
   "metadata": {},
   "outputs": [
    {
     "data": {
      "text/html": [
       "<div>\n",
       "<style scoped>\n",
       "    .dataframe tbody tr th:only-of-type {\n",
       "        vertical-align: middle;\n",
       "    }\n",
       "\n",
       "    .dataframe tbody tr th {\n",
       "        vertical-align: top;\n",
       "    }\n",
       "\n",
       "    .dataframe thead th {\n",
       "        text-align: right;\n",
       "    }\n",
       "</style>\n",
       "<table border=\"1\" class=\"dataframe\">\n",
       "  <thead>\n",
       "    <tr style=\"text-align: right;\">\n",
       "      <th></th>\n",
       "      <th>No_of_pairs_of_shoes</th>\n",
       "      <th>No_of_cloths</th>\n",
       "      <th>total_gadgets_owned</th>\n",
       "    </tr>\n",
       "    <tr>\n",
       "      <th>Gender</th>\n",
       "      <th></th>\n",
       "      <th></th>\n",
       "      <th></th>\n",
       "    </tr>\n",
       "  </thead>\n",
       "  <tbody>\n",
       "    <tr>\n",
       "      <th>female</th>\n",
       "      <td>8.0</td>\n",
       "      <td>82.50</td>\n",
       "      <td>6.25</td>\n",
       "    </tr>\n",
       "    <tr>\n",
       "      <th>male</th>\n",
       "      <td>5.0</td>\n",
       "      <td>41.25</td>\n",
       "      <td>5.75</td>\n",
       "    </tr>\n",
       "  </tbody>\n",
       "</table>\n",
       "</div>"
      ],
      "text/plain": [
       "        No_of_pairs_of_shoes  No_of_cloths  total_gadgets_owned\n",
       "Gender                                                         \n",
       "female                   8.0         82.50                 6.25\n",
       "male                     5.0         41.25                 5.75"
      ]
     },
     "execution_count": 13,
     "metadata": {},
     "output_type": "execute_result"
    }
   ],
   "source": [
    "# group the data by gender and calculate the means of the each feature\n",
    "data_means = data.groupby('Gender').mean()\n",
    "\n",
    "# view the values\n",
    "data_means"
   ]
  },
  {
   "cell_type": "code",
   "execution_count": 14,
   "metadata": {},
   "outputs": [
    {
     "data": {
      "text/html": [
       "<div>\n",
       "<style scoped>\n",
       "    .dataframe tbody tr th:only-of-type {\n",
       "        vertical-align: middle;\n",
       "    }\n",
       "\n",
       "    .dataframe tbody tr th {\n",
       "        vertical-align: top;\n",
       "    }\n",
       "\n",
       "    .dataframe thead th {\n",
       "        text-align: right;\n",
       "    }\n",
       "</style>\n",
       "<table border=\"1\" class=\"dataframe\">\n",
       "  <thead>\n",
       "    <tr style=\"text-align: right;\">\n",
       "      <th></th>\n",
       "      <th>No_of_pairs_of_shoes</th>\n",
       "      <th>No_of_cloths</th>\n",
       "      <th>total_gadgets_owned</th>\n",
       "    </tr>\n",
       "    <tr>\n",
       "      <th>Gender</th>\n",
       "      <th></th>\n",
       "      <th></th>\n",
       "      <th></th>\n",
       "    </tr>\n",
       "  </thead>\n",
       "  <tbody>\n",
       "    <tr>\n",
       "      <th>female</th>\n",
       "      <td>0.666667</td>\n",
       "      <td>291.666667</td>\n",
       "      <td>9.583333</td>\n",
       "    </tr>\n",
       "    <tr>\n",
       "      <th>male</th>\n",
       "      <td>0.666667</td>\n",
       "      <td>406.250000</td>\n",
       "      <td>10.916667</td>\n",
       "    </tr>\n",
       "  </tbody>\n",
       "</table>\n",
       "</div>"
      ],
      "text/plain": [
       "        No_of_pairs_of_shoes  No_of_cloths  total_gadgets_owned\n",
       "Gender                                                         \n",
       "female              0.666667    291.666667             9.583333\n",
       "male                0.666667    406.250000            10.916667"
      ]
     },
     "execution_count": 14,
     "metadata": {},
     "output_type": "execute_result"
    }
   ],
   "source": [
    "# group the data by gender and calculate the variance of the each feature\n",
    "data_variance = data.groupby('Gender').var()\n",
    "\n",
    "# view the values\n",
    "data_variance"
   ]
  },
  {
   "cell_type": "code",
   "execution_count": 15,
   "metadata": {},
   "outputs": [],
   "source": [
    "# Means for male\n",
    "male_no_shoes_mean = data_means['No_of_pairs_of_shoes'][data_variance.index == 'male'].values[0]\n",
    "male_no_cloths_mean = data_means['No_of_cloths'][data_variance.index == 'male'].values[0]\n",
    "male_total_gadgets_mean = data_means['total_gadgets_owned'][data_variance.index == 'male'].values[0]\n",
    "\n",
    "# Variance for male\n",
    "male_no_shoes_variance = data_variance['No_of_pairs_of_shoes'][data_variance.index == 'male'].values[0]\n",
    "male_no_cloths_variance = data_variance['No_of_cloths'][data_variance.index == 'male'].values[0]\n",
    "male_total_gadgets_variance = data_variance['total_gadgets_owned'][data_variance.index == 'male'].values[0]\n",
    "\n",
    "# Means for female\n",
    "female_no_shoes_mean = data_means['No_of_pairs_of_shoes'][data_variance.index == 'female'].values[0]\n",
    "female_no_cloths_mean = data_means['No_of_cloths'][data_variance.index == 'female'].values[0]\n",
    "female_total_gadgets_mean = data_means['total_gadgets_owned'][data_variance.index == 'female'].values[0]\n",
    "\n",
    "# Variance for female\n",
    "female_no_shoes_variance = data_variance['No_of_pairs_of_shoes'][data_variance.index == 'female'].values[0]\n",
    "female_no_cloths_variance = data_variance['No_of_cloths'][data_variance.index == 'female'].values[0]\n",
    "female_total_gadgets_variance = data_variance['total_gadgets_owned'][data_variance.index == 'female'].values[0]"
   ]
  },
  {
   "cell_type": "code",
   "execution_count": 16,
   "metadata": {},
   "outputs": [],
   "source": [
    "# Create a function that calculates p(x | y):\n",
    "def p_x_y(x, mean_y, variance_y):\n",
    "\n",
    "    # Input the arguments into a probability density function\n",
    "    p = 1/(np.sqrt(2*np.pi*variance_y)) * np.exp((-(x-mean_y)**2)/(2*variance_y))\n",
    "    \n",
    "    # return p\n",
    "    return p"
   ]
  },
  {
   "cell_type": "code",
   "execution_count": 17,
   "metadata": {},
   "outputs": [
    {
     "data": {
      "text/plain": [
       "0.0001775133492772894"
      ]
     },
     "execution_count": 17,
     "metadata": {},
     "output_type": "execute_result"
    }
   ],
   "source": [
    "# Numerator of the posterior if the unclassified observation is a male\n",
    "prob_male * \\\n",
    "p_x_y(person['No_of_pairs_of_shoes'][0], male_no_shoes_mean, male_no_shoes_variance) * \\\n",
    "p_x_y(person['No_of_cloths'][0], male_no_cloths_mean, male_no_cloths_variance) * \\\n",
    "p_x_y(person ['total_gadgets_owned'][0], male_total_gadgets_mean, male_total_gadgets_variance)"
   ]
  },
  {
   "cell_type": "code",
   "execution_count": 19,
   "metadata": {},
   "outputs": [
    {
     "data": {
      "text/plain": [
       "3.450987946920839e-06"
      ]
     },
     "execution_count": 19,
     "metadata": {},
     "output_type": "execute_result"
    }
   ],
   "source": [
    "prob_female * \\\n",
    "p_x_y(person['No_of_pairs_of_shoes'][0], female_no_shoes_mean, female_no_shoes_variance ) * \\\n",
    "p_x_y(person['No_of_cloths'][0], female_no_cloths_mean, female_no_cloths_variance) * \\\n",
    "p_x_y(person['total_gadgets_owned'][0], female_total_gadgets_mean, female_total_gadgets_variance)"
   ]
  },
  {
   "cell_type": "code",
   "execution_count": 21,
   "metadata": {},
   "outputs": [],
   "source": [
    "# it shows that it is most likely to be male."
   ]
  },
  {
   "cell_type": "code",
   "execution_count": 22,
   "metadata": {},
   "outputs": [],
   "source": [
    "# reference:  https://chrisalbon.com/machine_learning/naive_bayes/naive_bayes_classifier_from_scratch/"
   ]
  },
  {
   "cell_type": "code",
   "execution_count": null,
   "metadata": {},
   "outputs": [],
   "source": []
  }
 ],
 "metadata": {
  "kernelspec": {
   "display_name": "Python 3",
   "language": "python",
   "name": "python3"
  },
  "language_info": {
   "codemirror_mode": {
    "name": "ipython",
    "version": 3
   },
   "file_extension": ".py",
   "mimetype": "text/x-python",
   "name": "python",
   "nbconvert_exporter": "python",
   "pygments_lexer": "ipython3",
   "version": "3.7.0"
  }
 },
 "nbformat": 4,
 "nbformat_minor": 2
}
