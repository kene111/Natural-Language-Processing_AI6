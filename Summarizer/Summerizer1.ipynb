{
 "cells": [
  {
   "cell_type": "markdown",
   "metadata": {},
   "source": [
    " # Text summarization using extractive summarization techniques."
   ]
  },
  {
   "cell_type": "code",
   "execution_count": 1,
   "metadata": {},
   "outputs": [],
   "source": [
    "from nltk.corpus import stopwords\n",
    "from nltk.cluster.util import cosine_distance\n",
    "import numpy as np\n",
    "import networkx as nx\n",
    "from nltk.tokenize import sent_tokenize\n",
    "import re\n",
    "from nltk.corpus import stopwords\n",
    "import matplotlib.pyplot as plt"
   ]
  },
  {
   "cell_type": "code",
   "execution_count": 2,
   "metadata": {},
   "outputs": [],
   "source": [
    "# The text used is a poetry I wrote a while back.\n",
    "text = \"\"\"Child, know it now and let it be clear. The moment you ascend the throne of the gods or wear the crown of kings, you relinquish the ability to express all with freedom. In the time of pain and trouble where you wish to cry and wallow in the pits, the entity you have become will not let you to. You will be forced to stand tall when all you wish is to fall, forced to look ahead when all you want is to look down. The stars, moon and sun you claimed to be will force you to shine when all you want is to be devoid of all that is light. You will be forced to flow when you wish to become stagnant, forced to be firm when your core foundations are shattering, and  forced to burn even more when the light in you has grown dim. This now, is your fate. Days will come when you wish to rid your soul of this entity and be a simple being. This my child, will never happen. The entity you have become will not give you such  frivolous chance, because to get rid is to give up and to give up is not the character of the highly esteemed being you said you are.\"\"\" "
   ]
  },
  {
   "cell_type": "code",
   "execution_count": 3,
   "metadata": {},
   "outputs": [
    {
     "name": "stdout",
     "output_type": "stream",
     "text": [
      "['Child, know it now and let it be clear.', 'The moment you ascend the throne of the gods or wear the crown of kings, you relinquish the ability to express all with freedom.', 'In the time of pain and trouble where you wish to cry and wallow in the pits, the entity you have become will not let you to.', 'You will be forced to stand tall when all you wish is to fall, forced to look ahead when all you want is to look down.', 'The stars, moon and sun you claimed to be will force you to shine when all you want is to be devoid of all that is light.', 'You will be forced to flow when you wish to become stagnant, forced to be firm when your core foundations are shattering, and  forced to burn even more when the light in you has grown dim.', 'This now, is your fate.', 'Days will come when you wish to rid your soul of this entity and be a simple being.', 'This my child, will never happen.', 'The entity you have become will not give you such  frivolous chance, because to get rid is to give up and to give up is not the character of the highly esteemed being you said you are.']\n"
     ]
    }
   ],
   "source": [
    "# This cleans the text, removing everthing but alphacharacters, full stops and commas.\n",
    "article = sent_tokenize(text)\n",
    "sentences = []\n",
    "    \n",
    "for sentence in article:\n",
    "    review = re.sub('[^a-zA-Z\\.\\,]',' ', sentence)\n",
    "    sentences.append(review)\n",
    "print(sentences)"
   ]
  },
  {
   "cell_type": "code",
   "execution_count": 4,
   "metadata": {},
   "outputs": [],
   "source": [
    "# This function convert the sentences into vectors and finds the cosine distance between them. \n",
    "\n",
    "def sentence_similarity(sent_1, sent_2, stopwords=None):\n",
    "    if stopwords is None:\n",
    "        stopwords = []\n",
    " \n",
    "    sentence_1 = sent_1.lower().split(' ') # every sentence is broken down into words.\n",
    "    sentence_2 = sent_2.lower().split(' ') # every sentence is broken down into words.\n",
    " \n",
    "    all_words = list(set(sentence_1  + sentence_2))\n",
    " \n",
    "    vec_1 = [0] * len(all_words) # creates an empty vector of the length size of all_words\n",
    "    vec_2 = [0] * len(all_words)\n",
    " #  integer encoding\n",
    "    # build the vector for the first sentence\n",
    "    for w in sentence_1:\n",
    "        if w in stopwords:\n",
    "            continue\n",
    "        vec_1[all_words.index(w)] += 1 # it adds 1 to the index position of the word in sentence_1\n",
    " \n",
    "    # build the vector for the second sentence\n",
    "    for w in sentence_2:\n",
    "        if w in stopwords:\n",
    "            continue\n",
    "        vec_2[all_words.index(w)] += 1 # it adds 1 to the index position of the word in sentence_2\n",
    " \n",
    "    return 1 - cosine_distance(vec_1, vec_2)\n",
    " "
   ]
  },
  {
   "cell_type": "code",
   "execution_count": 5,
   "metadata": {},
   "outputs": [],
   "source": [
    "stop_words = stopwords.words('english')"
   ]
  },
  {
   "cell_type": "code",
   "execution_count": 6,
   "metadata": {},
   "outputs": [],
   "source": [
    "# Creating an empty matrix and initializing it to zero.\n",
    "similarity_matrix = np.zeros((len(sentences), len(sentences)))"
   ]
  },
  {
   "cell_type": "code",
   "execution_count": 7,
   "metadata": {
    "scrolled": true
   },
   "outputs": [
    {
     "name": "stdout",
     "output_type": "stream",
     "text": [
      "[[0. 0. 0. 0. 0. 0. 0. 0. 0. 0.]\n",
      " [0. 0. 0. 0. 0. 0. 0. 0. 0. 0.]\n",
      " [0. 0. 0. 0. 0. 0. 0. 0. 0. 0.]\n",
      " [0. 0. 0. 0. 0. 0. 0. 0. 0. 0.]\n",
      " [0. 0. 0. 0. 0. 0. 0. 0. 0. 0.]\n",
      " [0. 0. 0. 0. 0. 0. 0. 0. 0. 0.]\n",
      " [0. 0. 0. 0. 0. 0. 0. 0. 0. 0.]\n",
      " [0. 0. 0. 0. 0. 0. 0. 0. 0. 0.]\n",
      " [0. 0. 0. 0. 0. 0. 0. 0. 0. 0.]\n",
      " [0. 0. 0. 0. 0. 0. 0. 0. 0. 0.]]\n"
     ]
    }
   ],
   "source": [
    "print(similarity_matrix) # Displaying the empty similarity matrix"
   ]
  },
  {
   "cell_type": "code",
   "execution_count": 8,
   "metadata": {},
   "outputs": [],
   "source": [
    "# Here the similarity matrix is filled with the cosine distance.\n",
    "for id_1 in range (len(sentences)):\n",
    "        for id_2 in range (len(sentences)):\n",
    "            if id_1 == id_2:\n",
    "                continue\n",
    "            similarity_matrix[id_1][id_2]= sentence_similarity(sentences[id_1], sentences[id_2], stop_words)\n",
    "            "
   ]
  },
  {
   "cell_type": "code",
   "execution_count": 9,
   "metadata": {},
   "outputs": [
    {
     "data": {
      "text/plain": [
       "array([[0.        , 0.        , 0.15075567, 0.        , 0.        ,\n",
       "        0.        , 0.        , 0.        , 0.28867513, 0.        ],\n",
       "       [0.        , 0.        , 0.        , 0.        , 0.        ,\n",
       "        0.        , 0.        , 0.        , 0.        , 0.        ],\n",
       "       [0.15075567, 0.        , 0.        , 0.07784989, 0.        ,\n",
       "        0.12573892, 0.        , 0.21320072, 0.        , 0.13159034],\n",
       "       [0.        , 0.        , 0.07784989, 0.        , 0.0860663 ,\n",
       "        0.37686733, 0.        , 0.09128709, 0.        , 0.        ],\n",
       "       [0.        , 0.        , 0.        , 0.0860663 , 0.        ,\n",
       "        0.        , 0.        , 0.        , 0.        , 0.        ],\n",
       "       [0.        , 0.        , 0.12573892, 0.37686733, 0.        ,\n",
       "        0.        , 0.        , 0.07372098, 0.        , 0.09100315],\n",
       "       [0.        , 0.        , 0.        , 0.        , 0.        ,\n",
       "        0.        , 0.        , 0.        , 0.        , 0.        ],\n",
       "       [0.        , 0.        , 0.21320072, 0.09128709, 0.        ,\n",
       "        0.07372098, 0.        , 0.        , 0.        , 0.15430335],\n",
       "       [0.28867513, 0.        , 0.        , 0.        , 0.        ,\n",
       "        0.        , 0.        , 0.        , 0.        , 0.        ],\n",
       "       [0.        , 0.        , 0.13159034, 0.        , 0.        ,\n",
       "        0.09100315, 0.        , 0.15430335, 0.        , 0.        ]])"
      ]
     },
     "execution_count": 9,
     "metadata": {},
     "output_type": "execute_result"
    }
   ],
   "source": [
    "similarity_matrix # the filled similarity matrix"
   ]
  },
  {
   "cell_type": "code",
   "execution_count": 10,
   "metadata": {},
   "outputs": [],
   "source": [
    "sentence_similarity_graph = nx.from_numpy_array(similarity_matrix) # creating the graph\n",
    "scores = nx.pagerank(sentence_similarity_graph) # obtaining the page rank scores\n"
   ]
  },
  {
   "cell_type": "code",
   "execution_count": 11,
   "metadata": {
    "scrolled": true
   },
   "outputs": [
    {
     "data": {
      "image/png": "[encoded data removed]",
      "text/plain": [
       "<Figure size 648x648 with 1 Axes>"
      ]
     },
     "metadata": {
      "needs_background": "light"
     },
     "output_type": "display_data"
    }
   ],
   "source": [
    "# Displaying the graph\n",
    "% matplotlib inline\n",
    "\n",
    "plt.figure(figsize=(9,9))\n",
    "nx.draw_networkx(sentence_similarity_graph,arrows=True, with_labels=True)\n"
   ]
  },
  {
   "cell_type": "code",
   "execution_count": 12,
   "metadata": {},
   "outputs": [
    {
     "data": {
      "text/plain": [
       "{0: 0.12270301098589445,\n",
       " 1: 0.01807228915662651,\n",
       " 2: 0.1693049923617092,\n",
       " 3: 0.1615290911463358,\n",
       " 4: 0.03676778560185323,\n",
       " 5: 0.1608238497264989,\n",
       " 6: 0.01807228915662651,\n",
       " 7: 0.13025422436537903,\n",
       " 8: 0.0865906207127087,\n",
       " 9: 0.09588184678636777}"
      ]
     },
     "execution_count": 12,
     "metadata": {},
     "output_type": "execute_result"
    }
   ],
   "source": [
    "scores"
   ]
  },
  {
   "cell_type": "markdown",
   "metadata": {},
   "source": [
    "# from what we can see looks like the highest ranked page(sentence) is 2 with 0.1693049923617092"
   ]
  },
  {
   "cell_type": "code",
   "execution_count": 13,
   "metadata": {},
   "outputs": [
    {
     "name": "stdout",
     "output_type": "stream",
     "text": [
      "Scores and their sentences from Highest to Lowest :  [(0.1693049923617092, 'In the time of pain and trouble where you wish to cry and wallow in the pits, the entity you have become will not let you to.'), (0.1615290911463358, 'You will be forced to stand tall when all you wish is to fall, forced to look ahead when all you want is to look down.'), (0.1608238497264989, 'You will be forced to flow when you wish to become stagnant, forced to be firm when your core foundations are shattering, and  forced to burn even more when the light in you has grown dim.'), (0.13025422436537903, 'Days will come when you wish to rid your soul of this entity and be a simple being.'), (0.12270301098589445, 'Child, know it now and let it be clear.'), (0.09588184678636777, 'The entity you have become will not give you such  frivolous chance, because to get rid is to give up and to give up is not the character of the highly esteemed being you said you are.'), (0.0865906207127087, 'This my child, will never happen.'), (0.03676778560185323, 'The stars, moon and sun you claimed to be will force you to shine when all you want is to be devoid of all that is light.'), (0.01807228915662651, 'This now, is your fate.'), (0.01807228915662651, 'The moment you ascend the throne of the gods or wear the crown of kings, you relinquish the ability to express all with freedom.')]\n"
     ]
    }
   ],
   "source": [
    "ranked_sentence = sorted(((scores[count],sentence) for count,sentence in enumerate(sentences)), reverse=True)    \n",
    "print(\"Scores and their sentences from Highest to Lowest : \", ranked_sentence)    "
   ]
  },
  {
   "cell_type": "code",
   "execution_count": 14,
   "metadata": {
    "scrolled": false
   },
   "outputs": [
    {
     "name": "stdout",
     "output_type": "stream",
     "text": [
      "In the time of pain and trouble where you wish to cry and wallow in the pits, the entity you have become will not let you to.\n",
      "You will be forced to stand tall when all you wish is to fall, forced to look ahead when all you want is to look down.\n",
      "You will be forced to flow when you wish to become stagnant, forced to be firm when your core foundations are shattering, and  forced to burn even more when the light in you has grown dim.\n"
     ]
    }
   ],
   "source": [
    "# Extract top 3 sentences as the summary\n",
    "for i in range(3):\n",
    "  print(ranked_sentence[i][1])"
   ]
  },
  {
   "cell_type": "code",
   "execution_count": null,
   "metadata": {},
   "outputs": [],
   "source": []
  },
  {
   "cell_type": "code",
   "execution_count": null,
   "metadata": {},
   "outputs": [],
   "source": []
  },
  {
   "cell_type": "code",
   "execution_count": null,
   "metadata": {},
   "outputs": [],
   "source": []
  },
  {
   "cell_type": "code",
   "execution_count": null,
   "metadata": {},
   "outputs": [],
   "source": []
  },
  {
   "cell_type": "code",
   "execution_count": null,
   "metadata": {},
   "outputs": [],
   "source": []
  },
  {
   "cell_type": "code",
   "execution_count": null,
   "metadata": {},
   "outputs": [],
   "source": []
  },
  {
   "cell_type": "code",
   "execution_count": null,
   "metadata": {},
   "outputs": [],
   "source": []
  },
  {
   "cell_type": "code",
   "execution_count": null,
   "metadata": {},
   "outputs": [],
   "source": []
  },
  {
   "cell_type": "code",
   "execution_count": null,
   "metadata": {},
   "outputs": [],
   "source": []
  },
  {
   "cell_type": "code",
   "execution_count": null,
   "metadata": {},
   "outputs": [],
   "source": []
  },
  {
   "cell_type": "code",
   "execution_count": null,
   "metadata": {},
   "outputs": [],
   "source": []
  },
  {
   "cell_type": "markdown",
   "metadata": {},
   "source": [
    "### References"
   ]
  },
  {
   "cell_type": "markdown",
   "metadata": {},
   "source": [
    "# https://towardsdatascience.com/understand-text-summarization-and-create-your-own-summarizer-in-python-b26a9f09fc70"
   ]
  },
  {
   "cell_type": "markdown",
   "metadata": {},
   "source": [
    "# https://www.analyticsvidhya.com/blog/2018/11/introduction-text-summarization-textrank-python/"
   ]
  },
  {
   "cell_type": "markdown",
   "metadata": {},
   "source": [
    "### ----------------------------------------------------------------------------------------------------------------"
   ]
  },
  {
   "cell_type": "code",
   "execution_count": null,
   "metadata": {},
   "outputs": [],
   "source": []
  }
 ],
 "metadata": {
  "kernelspec": {
   "display_name": "Python 3",
   "language": "python",
   "name": "python3"
  },
  "language_info": {
   "codemirror_mode": {
    "name": "ipython",
    "version": 3
   },
   "file_extension": ".py",
   "mimetype": "text/x-python",
   "name": "python",
   "nbconvert_exporter": "python",
   "pygments_lexer": "ipython3",
   "version": "3.7.0"
  }
 },
 "nbformat": 4,
 "nbformat_minor": 2
}
